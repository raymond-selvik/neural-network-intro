{
 "cells": [
  {
   "cell_type": "markdown",
   "metadata": {},
   "source": [
    "# 1. Neural Network Basics - Logical Gates\n",
    "## Introduction\n",
    "Learning Deep Learning can be a comprehensive task. There exists a wide range of different frameworks, and the discipline is very heavy on mathematics. It is therefore pretty challenging to know exactly were to start. \n",
    "\n",
    "Several companies, including Microsoft and Google, have made easy-to-use services for Deep Learning available like for example Microsoft Cognitive Services. While these are a perfect way to add smartness to your applications based on Deep Learning, these services are a black box making it very hard to know how it actually works. \n",
    "\n",
    "On the other and there exists several frameworks to start making Nerual Networks from the ground up. Like Keras, PyTorch and Tensorflow. While these a very heavy framework, there seems to be a lack of literature and material to teach people how Neural Networks actually functions. One infamous “Hello World”-example is the Iris classification problem, where one is going to determine the spieces of a plant based on a set of attributes like for example size, colour etc. While this example is perfect to learn of classification in general works, it is not good for learning how the Nerual Network in itself is working in order to solve classification problems. \n",
    "\n",
    " In this series of papers, I will try to teach Deep Learning from a different perspective, in order to better understand how the Nerual Network works.\n"
   ]
  },
  {
   "cell_type": "markdown",
   "metadata": {},
   "source": [
    "## What is an Artificial Neural Network?\n",
    "In order to understand how an Artifical Network works, we first have to understand what it really is. Both as a concept and from a Computer Science perspective.\n",
    "\n",
    "#### Conceptually \n",
    "As a concept, an Artificial Neural Network is trying to model and emulate the neural network found in animal brains. Which is a vast network of single neurons, a cell, that has inputs and outputs. Sensory inputs from the body’s senses will pass through this network, and result in an actions. For example when getting exposed for strong light, the eyes will automatically close, since there is a circuit for it inside the network. The more the network is exposed for the same sensory input, the more “trained” it becomes. As the connection between the neurons is getting stronger, and becomes a more likely path. When speaking of Artifical Neural Networks, this is the “weights” of the inputs. \n",
    "\n",
    "#### From a Data Science Perspective\n",
    "From a Computer Science perspective, Artificial Neural Networks are very interesting. If we take a look at Computer Science as a whole, Artificial Neural Networks is only one of many others network types for computation.\n",
    "\n",
    "NAND-networks is maybe the most important one, and it is the fundament of nearly all computers today. By combining NAND-gates in a network, it is possible to create any type of logical gates, such as AND, OR, XOR etc. And such network is then considered **computationally universal**. Such property is called **Turing Completeness**.\n",
    "\n",
    "It turns out, that an Artificial Neural Network also has the property of being Turing Complete. \n",
    "\n"
   ]
  },
  {
   "cell_type": "markdown",
   "metadata": {},
   "source": [
    "## Making Logical Gates with Artifical Neural Network\n",
    "Whit the NAND-gates in mind, once simple place to start how Neural Networks works would be to create logical gates. With such example, one can focus only on the mathematics behind Neural Networks, without concerning any domain. In this paper we will try to create **AND**, **OR** and **NAND**-gates, by training a very simple Neural Network with only one node. "
   ]
  },
  {
   "cell_type": "markdown",
   "metadata": {},
   "source": [
    "First we need to import the libraries we need:"
   ]
  },
  {
   "cell_type": "code",
   "execution_count": 1,
   "metadata": {},
   "outputs": [],
   "source": [
    "import numpy as np\n",
    "import matplotlib.pyplot as plt \n",
    "import pandas as pd\n",
    "\n",
    "import tensorflow as tf\n",
    "from tensorflow.keras.models import Sequential\n",
    "from tensorflow.keras.layers import Dense\n",
    "from tensorflow.keras.optimizers import Adam"
   ]
  },
  {
   "cell_type": "markdown",
   "metadata": {},
   "source": [
    "Then let us define 3 dataframes containing the **AND**, **OR** and **NAND** logic"
   ]
  },
  {
   "cell_type": "code",
   "execution_count": 2,
   "metadata": {},
   "outputs": [],
   "source": [
    "#df_and = pd.DataFrame([[0,0,0], [0,1,0], [1,0,0], [1,1,1]], columns = [\"x0\", \"x1\", \"y\"])\n",
    "np_and = np.array(\n",
    "    [[0,0,0],\n",
    "    [0,1,0],\n",
    "    [1,0,0],\n",
    "    [1,1,1]]\n",
    ")\n",
    "\n",
    "np_or = np.array(\n",
    "    [[0,0,0],\n",
    "    [0,1,1],\n",
    "    [1,0,1],\n",
    "    [1,1,1]]\n",
    ")\n",
    "\n",
    "np_nand = np.array(\n",
    "    [[0,0,1],\n",
    "    [0,1,1],\n",
    "    [1,0,1],\n",
    "    [1,1,0]]\n",
    ")\n",
    "\n",
    "X_and,y_and = np_and[:,:2], np_and[:,2]\n",
    "X_or,y_or = np_or[:,:2], np_or[:,2]\n",
    "X_nand,y_nand = np_nand[:,:2], np_nand[:,2]"
   ]
  },
  {
   "cell_type": "markdown",
   "metadata": {},
   "source": [
    "Then let us scatter plot the data, with the value output value as a label."
   ]
  },
  {
   "cell_type": "code",
   "execution_count": 3,
   "metadata": {},
   "outputs": [
    {
     "data": {
      "image/png": "[encoded data removed]",
      "text/plain": [
       "<Figure size 432x288 with 1 Axes>"
      ]
     },
     "metadata": {
      "needs_background": "light"
     },
     "output_type": "display_data"
    },
    {
     "data": {
      "image/png": "[encoded data removed]",
      "text/plain": [
       "<Figure size 432x288 with 1 Axes>"
      ]
     },
     "metadata": {
      "needs_background": "light"
     },
     "output_type": "display_data"
    },
    {
     "data": {
      "image/png": "[encoded data removed]",
      "text/plain": [
       "<Figure size 432x288 with 1 Axes>"
      ]
     },
     "metadata": {
      "needs_background": "light"
     },
     "output_type": "display_data"
    }
   ],
   "source": [
    "def plot_data(X,y, title):\n",
    "    colors = ['blue' if label == 1 else 'red' for label in y]\n",
    "    \n",
    "    plt.title(title)\n",
    "    plt.scatter(X[:,0], X[:,1], color=colors)\n",
    "    return plt\n",
    "\n",
    "plot_data(X_and,y_and, 'AND').show()\n",
    "plot_data(X_or,y_or, 'OR').show()\n",
    "plot_data(X_nand,y_nand, 'NAND').show()"
   ]
  },
  {
   "cell_type": "code",
   "execution_count": 5,
   "metadata": {},
   "outputs": [
    {
     "data": {
      "text/plain": [
       "array([[9.2387199e-07],\n",
       "       [8.5289776e-03],\n",
       "       [8.0065727e-03],\n",
       "       [9.8632216e-01]], dtype=float32)"
      ]
     },
     "execution_count": 5,
     "metadata": {},
     "output_type": "execute_result"
    }
   ],
   "source": [
    "def build_model(X,y):\n",
    "    model = Sequential()\n",
    "    model.add(Dense(1, input_shape=(2,), activation=\"sigmoid\"))\n",
    "\n",
    "    model.compile(Adam(lr=0.05), 'binary_crossentropy', metrics=['accuracy'])\n",
    "    model.fit(X[:,:2], y, epochs=1000, verbose = 0)\n",
    "    return model\n",
    "\n",
    "model_and = build_model(X_and, y_and)\n",
    "model_and.predict_proba(X_and)\n",
    "\n",
    "model_or = build_model(X_or, y_or)\n",
    "model_or.predict_proba(X_or)\n",
    "\n",
    "model_nand = build_model(X_nand, y_nand)\n",
    "model_nand.predict_proba(X_nand)\n"
   ]
  },
  {
   "cell_type": "code",
   "execution_count": 7,
   "metadata": {},
   "outputs": [
    {
     "data": {
      "image/png": "[encoded data removed]",
      "text/plain": [
       "<Figure size 432x288 with 1 Axes>"
      ]
     },
     "metadata": {
      "needs_background": "light"
     },
     "output_type": "display_data"
    },
    {
     "ename": "NameError",
     "evalue": "name 'model_or' is not defined",
     "output_type": "error",
     "traceback": [
      "\u001b[1;31m---------------------------------------------------------------------------\u001b[0m",
      "\u001b[1;31mNameError\u001b[0m                                 Traceback (most recent call last)",
      "\u001b[1;32m<ipython-input-7-b1208f19a784>\u001b[0m in \u001b[0;36m<module>\u001b[1;34m\u001b[0m\n\u001b[0;32m     29\u001b[0m     \u001b[1;32mreturn\u001b[0m \u001b[0mplt\u001b[0m\u001b[1;33m\u001b[0m\u001b[1;33m\u001b[0m\u001b[0m\n\u001b[0;32m     30\u001b[0m \u001b[0mplot_decision_boundary\u001b[0m\u001b[1;33m(\u001b[0m\u001b[0mX_and\u001b[0m\u001b[1;33m,\u001b[0m\u001b[0my_and\u001b[0m\u001b[1;33m,\u001b[0m \u001b[0mmodel_and\u001b[0m\u001b[1;33m,\u001b[0m \u001b[0mcmap\u001b[0m \u001b[1;33m=\u001b[0m \u001b[1;34m'RdBu'\u001b[0m\u001b[1;33m)\u001b[0m\u001b[1;33m.\u001b[0m\u001b[0mshow\u001b[0m\u001b[1;33m(\u001b[0m\u001b[1;33m)\u001b[0m\u001b[1;33m\u001b[0m\u001b[1;33m\u001b[0m\u001b[0m\n\u001b[1;32m---> 31\u001b[1;33m \u001b[0mplot_decision_boundary\u001b[0m\u001b[1;33m(\u001b[0m\u001b[0mX_or\u001b[0m\u001b[1;33m,\u001b[0m\u001b[0my_or\u001b[0m\u001b[1;33m,\u001b[0m \u001b[0mmodel_or\u001b[0m\u001b[1;33m,\u001b[0m \u001b[0mcmap\u001b[0m \u001b[1;33m=\u001b[0m \u001b[1;34m'RdBu'\u001b[0m\u001b[1;33m)\u001b[0m\u001b[1;33m.\u001b[0m\u001b[0mshow\u001b[0m\u001b[1;33m(\u001b[0m\u001b[1;33m)\u001b[0m\u001b[1;33m\u001b[0m\u001b[1;33m\u001b[0m\u001b[0m\n\u001b[0m\u001b[0;32m     32\u001b[0m \u001b[0mplot_decision_boundary\u001b[0m\u001b[1;33m(\u001b[0m\u001b[0mX_nand\u001b[0m\u001b[1;33m,\u001b[0m\u001b[0my_nand\u001b[0m\u001b[1;33m,\u001b[0m \u001b[0mmodel_nand\u001b[0m\u001b[1;33m,\u001b[0m \u001b[0mcmap\u001b[0m \u001b[1;33m=\u001b[0m \u001b[1;34m'RdBu'\u001b[0m\u001b[1;33m)\u001b[0m\u001b[1;33m.\u001b[0m\u001b[0mshow\u001b[0m\u001b[1;33m(\u001b[0m\u001b[1;33m)\u001b[0m\u001b[1;33m\u001b[0m\u001b[1;33m\u001b[0m\u001b[0m\n",
      "\u001b[1;31mNameError\u001b[0m: name 'model_or' is not defined"
     ]
    }
   ],
   "source": [
    "def plot_decision_boundary(X, y, model, steps=1000, cmap='Paired'):\n",
    "    \"\"\"\n",
    "    Function to plot the decision boundary and data points of a model.\n",
    "    Data points are colored based on their actual label.\n",
    "    \"\"\"\n",
    "    cmap = plt.get_cmap(cmap)\n",
    "\n",
    "    # Define region of interest by data limits\n",
    "    xmin, xmax = X[:,0].min() - 1, X[:,0].max() + 1\n",
    "    ymin, ymax = X[:,1].min() - 1, X[:,1].max() + 1\n",
    "    steps = 1000\n",
    "    x_span = np.linspace(xmin, xmax, steps)\n",
    "    y_span = np.linspace(ymin, ymax, steps)\n",
    "    xx, yy = np.meshgrid(x_span, y_span)\n",
    "\n",
    "    # Make predictions across region of interest\n",
    "    labels = model.predict(np.c_[xx.ravel(), yy.ravel()])\n",
    "\n",
    "    # Plot decision boundary in region of interest\n",
    "    z = labels.reshape(xx.shape)\n",
    "\n",
    "    ##fig, ax = subplots()\n",
    "    plt.contourf(xx, yy, z, cmap=cmap, alpha=0.5)\n",
    "\n",
    "    # Get predicted labels on training data and plot\n",
    "    train_labels = model.predict(X)\n",
    "    plt.scatter(X[:,0], X[:,1], c=y.ravel(), cmap=cmap, lw=0)\n",
    "\n",
    "    return plt\n",
    "plot_decision_boundary(X_and,y_and, model_and, cmap = 'RdBu').show()\n",
    "plot_decision_boundary(X_or,y_or, model_or, cmap = 'RdBu').show()\n",
    "plot_decision_boundary(X_nand,y_nand, model_nand, cmap = 'RdBu').show()"
   ]
  },
  {
   "cell_type": "code",
   "execution_count": null,
   "metadata": {},
   "outputs": [],
   "source": []
  }
 ],
 "metadata": {
  "kernelspec": {
   "display_name": "Python 3",
   "language": "python",
   "name": "python3"
  },
  "language_info": {
   "codemirror_mode": {
    "name": "ipython",
    "version": 3
   },
   "file_extension": ".py",
   "mimetype": "text/x-python",
   "name": "python",
   "nbconvert_exporter": "python",
   "pygments_lexer": "ipython3",
   "version": "3.6.8"
  }
 },
 "nbformat": 4,
 "nbformat_minor": 2
}
