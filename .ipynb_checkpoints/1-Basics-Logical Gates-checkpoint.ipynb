{
 "cells": [
  {
   "cell_type": "markdown",
   "metadata": {},
   "source": [
    "# 1. Neural Network Basics - Logical Gates\n",
    "## Introduction\n",
    "Learning Deep Learning can be a comprehensive task. There exists a wide range of different frameworks, and the discipline is very heavy on mathematics. It is therefore pretty challenging to know exactly were to start. \n",
    "\n",
    "Several companies, including Microsoft and Google, have made easy-to-use services for Deep Learning available like for example Microsoft Cognitive Services. While these are a perfect way to add smartness to your applications based on Deep Learning, these services are a black box making it very hard to know how it actually works. \n",
    "\n",
    "On the other and there exists several frameworks to start making Nerual Networks from the ground up. Like Keras, PyTorch and Tensorflow. While these a very heavy framework, there seems to be a lack of literature and material to teach people how Neural Networks actually functions. One infamous “Hello World”-example is the Iris classification problem, where one is going to determine the spieces of a plant based on a set of attributes like for example size, colour etc. While this example is perfect to learn of classification in general works, it is not good for learning how the Nerual Network in itself is working in order to solve classification problems. \n",
    "\n",
    " In this series of papers, I will try to teach Deep Learning from a different perspective, in order to better understand how the Nerual Network works.\n"
   ]
  },
  {
   "cell_type": "markdown",
   "metadata": {},
   "source": [
    "## What is an Artificial Neural Network?\n",
    "In order to understand how an Artifical Network works, we first have to understand what it really is. Both as a concept and from a Computer Science perspective.\n",
    "\n",
    "#### Conceptually \n",
    "As a concept, an Artificial Neural Network is trying to model and emulate the neural network found in animal brains. Which is a vast network of single neurons, a cell, that has inputs and outputs. Sensory inputs from the body’s senses will pass through this network, and result in an actions. For example when getting exposed for strong light, the eyes will automatically close, since there is a circuit for it inside the network. The more the network is exposed for the same sensory input, the more “trained” it becomes. As the connection between the neurons is getting stronger, and becomes a more likely path. When speaking of Artifical Neural Networks, this is the “weights” of the inputs. \n",
    "\n",
    "#### From a Data Science Perspective\n",
    "From a Computer Science perspective, Artificial Neural Networks are very interesting. If we take a look at Computer Science as a whole, Artificial Neural Networks is only one of many others network types for computation.\n",
    "\n",
    "NAND-networks is maybe the most important one, and it is the fundament of nearly all computers today. By combining NAND-gates in a network, it is possible to create any type of logical gates, such as AND, OR, XOR etc. And such network is then considered **computationally universal**. Such property is called **Turing Completeness**.\n",
    "\n",
    "It turns out, that an Artificial Neural Network also has the property of being Turing Complete. \n",
    "\n"
   ]
  },
  {
   "cell_type": "markdown",
   "metadata": {},
   "source": [
    "## Making Logical Gates with Artifical Neural Network\n",
    "With the NAND-network in mind. One great place to start exploring Neural Networks would be to create logical gates and see how it differs from conventional logical circuits. In this paper we will explore creating **AND**, **OR** and **NAND** gates. "
   ]
  },
  {
   "cell_type": "code",
   "execution_count": 11,
   "metadata": {},
   "outputs": [],
   "source": [
    "import numpy as np \n",
    "import pandas as pd\n",
    "import matplotlib.pyplot as plt \n",
    "\n",
    "from keras.models import Sequential\n",
    "from keras.layers import Dense\n",
    "from keras.optimizers import Adam"
   ]
  },
  {
   "cell_type": "code",
   "execution_count": 13,
   "metadata": {},
   "outputs": [
    {
     "name": "stdout",
     "output_type": "stream",
     "text": [
      "   a  b\n",
      "0  0  0\n",
      "1  0  1\n",
      "2  1  0\n",
      "3  1  1\n",
      "0    0\n",
      "1    1\n",
      "2    1\n",
      "3    0\n",
      "Name: c, dtype: int64\n"
     ]
    }
   ],
   "source": [
    "columns = ['a', 'b', 'c']\n",
    "\n",
    "df = pd.DataFrame([[0,0,0], [0,1,1], [1,0,1], [1,1,0]], columns=columns)\n",
    "X = df.iloc[:,0:2]\n",
    "y = df.iloc[:, 2]\n",
    "\n",
    "\n",
    "print(df)"
   ]
  },
  {
   "cell_type": "code",
   "execution_count": null,
   "metadata": {},
   "outputs": [],
   "source": []
  },
  {
   "cell_type": "code",
   "execution_count": null,
   "metadata": {},
   "outputs": [],
   "source": []
  }
 ],
 "metadata": {
  "kernelspec": {
   "display_name": "Python 3",
   "language": "python",
   "name": "python3"
  },
  "language_info": {
   "codemirror_mode": {
    "name": "ipython",
    "version": 3
   },
   "file_extension": ".py",
   "mimetype": "text/x-python",
   "name": "python",
   "nbconvert_exporter": "python",
   "pygments_lexer": "ipython3",
   "version": "3.6.8"
  }
 },
 "nbformat": 4,
 "nbformat_minor": 2
}
